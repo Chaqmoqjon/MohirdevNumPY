{
  "nbformat": 4,
  "nbformat_minor": 0,
  "metadata": {
    "colab": {
      "provenance": [],
      "authorship_tag": "ABX9TyO9hq0eufZmt6/FfBfmEbnE",
      "include_colab_link": true
    },
    "kernelspec": {
      "name": "python3",
      "display_name": "Python 3"
    },
    "language_info": {
      "name": "python"
    }
  },
  "cells": [
    {
      "cell_type": "markdown",
      "metadata": {
        "id": "view-in-github",
        "colab_type": "text"
      },
      "source": [
        "<a href=\"https://colab.research.google.com/github/Chaqmoqjon/MohirdevNumPY/blob/main/6_Universal_functions.ipynb\" target=\"_parent\"><img src=\"https://colab.research.google.com/assets/colab-badge.svg\" alt=\"Open In Colab\"/></a>"
      ]
    },
    {
      "cell_type": "code",
      "execution_count": null,
      "metadata": {
        "id": "Ll7DhbcuXP7s"
      },
      "outputs": [],
      "source": [
        "import numpy as np"
      ]
    },
    {
      "cell_type": "code",
      "source": [
        "arr = np.arange(10)\n",
        "arr"
      ],
      "metadata": {
        "colab": {
          "base_uri": "https://localhost:8080/"
        },
        "id": "6lxhgj5PXYbQ",
        "outputId": "3650fb5e-ac3c-4bd5-b1f7-5e69ba28d97e"
      },
      "execution_count": null,
      "outputs": [
        {
          "output_type": "execute_result",
          "data": {
            "text/plain": [
              "array([0, 1, 2, 3, 4, 5, 6, 7, 8, 9])"
            ]
          },
          "metadata": {},
          "execution_count": 2
        }
      ]
    },
    {
      "cell_type": "code",
      "source": [
        "#  Uniriy guruhi funksiyalari  faqat bitta arr qabul qiladi  not (arr1, arr2)"
      ],
      "metadata": {
        "id": "iLwy_FARYNn9"
      },
      "execution_count": null,
      "outputs": []
    },
    {
      "cell_type": "code",
      "source": [
        "np.sqrt(arr)  # kvadrad ildizga olish,"
      ],
      "metadata": {
        "colab": {
          "base_uri": "https://localhost:8080/"
        },
        "id": "I0faxTnsXfUR",
        "outputId": "6814a307-f8ae-4a3a-94c5-f276e99f718f"
      },
      "execution_count": null,
      "outputs": [
        {
          "output_type": "execute_result",
          "data": {
            "text/plain": [
              "array([0.        , 1.        , 1.41421356, 1.73205081, 2.        ,\n",
              "       2.23606798, 2.44948974, 2.64575131, 2.82842712, 3.        ])"
            ]
          },
          "metadata": {},
          "execution_count": 4
        }
      ]
    },
    {
      "cell_type": "code",
      "source": [
        "np.square(arr) # kavdratga oshiradi"
      ],
      "metadata": {
        "colab": {
          "base_uri": "https://localhost:8080/"
        },
        "id": "UKGRbHfOXmKv",
        "outputId": "76d296e7-4663-44ec-f974-633413eb616a"
      },
      "execution_count": null,
      "outputs": [
        {
          "output_type": "execute_result",
          "data": {
            "text/plain": [
              "array([ 0,  1,  4,  9, 16, 25, 36, 49, 64, 81])"
            ]
          },
          "metadata": {},
          "execution_count": 5
        }
      ]
    },
    {
      "cell_type": "code",
      "source": [
        "np.exp(arr)  # sonlarni exponentini qaytaradi,  e ~ 2.71828183, ekponent darajalari"
      ],
      "metadata": {
        "colab": {
          "base_uri": "https://localhost:8080/"
        },
        "id": "y8eg9KJhYAD0",
        "outputId": "f8e1e9e9-e8d4-4c2f-a064-d2c39c110ec5"
      },
      "execution_count": null,
      "outputs": [
        {
          "output_type": "execute_result",
          "data": {
            "text/plain": [
              "array([1.00000000e+00, 2.71828183e+00, 7.38905610e+00, 2.00855369e+01,\n",
              "       5.45981500e+01, 1.48413159e+02, 4.03428793e+02, 1.09663316e+03,\n",
              "       2.98095799e+03, 8.10308393e+03])"
            ]
          },
          "metadata": {},
          "execution_count": 7
        }
      ]
    },
    {
      "cell_type": "code",
      "source": [
        "np.log(arr[1:])  # logirifmlarni hisoblaydi (loge). 0 da xato bor"
      ],
      "metadata": {
        "colab": {
          "base_uri": "https://localhost:8080/"
        },
        "id": "XFyjl0S0YYrW",
        "outputId": "ef187896-0f5c-40f9-dbc0-71e74eb35f59"
      },
      "execution_count": null,
      "outputs": [
        {
          "output_type": "execute_result",
          "data": {
            "text/plain": [
              "array([0.        , 0.69314718, 1.09861229, 1.38629436, 1.60943791,\n",
              "       1.79175947, 1.94591015, 2.07944154, 2.19722458])"
            ]
          },
          "metadata": {},
          "execution_count": 9
        }
      ]
    },
    {
      "cell_type": "code",
      "source": [
        "arr_haq = np.random.randn(6)  # 6 ta random son\n",
        "arr_haq"
      ],
      "metadata": {
        "colab": {
          "base_uri": "https://localhost:8080/"
        },
        "id": "Kd2WVEQdZ0RC",
        "outputId": "3f286bae-f441-45fb-e707-1ae1398d26e8"
      },
      "execution_count": null,
      "outputs": [
        {
          "output_type": "execute_result",
          "data": {
            "text/plain": [
              "array([-0.29572655,  0.10456893,  1.32180628,  0.19640997,  1.51973034,\n",
              "       -1.09871259])"
            ]
          },
          "metadata": {},
          "execution_count": 11
        }
      ]
    },
    {
      "cell_type": "code",
      "source": [
        "qoldiq, butun = np.modf(arr_haq)  #  qoldiq va butun qismini ikkita massivga oladi"
      ],
      "metadata": {
        "id": "0xPa8Q3rajGP"
      },
      "execution_count": null,
      "outputs": []
    },
    {
      "cell_type": "code",
      "source": [
        "print(qoldiq)\n",
        "print(butun)"
      ],
      "metadata": {
        "colab": {
          "base_uri": "https://localhost:8080/"
        },
        "id": "tFpcHom-a35J",
        "outputId": "86b80210-ee92-40c6-e1bc-fc855bd953c5"
      },
      "execution_count": null,
      "outputs": [
        {
          "output_type": "stream",
          "name": "stdout",
          "text": [
            "[-0.29572655  0.10456893  0.32180628  0.19640997  0.51973034 -0.09871259]\n",
            "[-0.  0.  1.  0.  1. -1.]\n"
          ]
        }
      ]
    },
    {
      "cell_type": "code",
      "source": [
        "np.sign(arr_haq)  # arr_haq ning ishoralarini  -1 va 1 ko'rinishida qaytaradi"
      ],
      "metadata": {
        "colab": {
          "base_uri": "https://localhost:8080/"
        },
        "id": "4kCdBMqHbOZC",
        "outputId": "5bceec4f-52e7-4a3b-e0ec-9d98353e8d03"
      },
      "execution_count": null,
      "outputs": [
        {
          "output_type": "execute_result",
          "data": {
            "text/plain": [
              "array([-1.,  1.,  1.,  1.,  1., -1.])"
            ]
          },
          "metadata": {},
          "execution_count": 14
        }
      ]
    },
    {
      "cell_type": "code",
      "source": [
        "np.isnan(arr_haq)  # Nan qiymati bo'lsa True qaytaradi"
      ],
      "metadata": {
        "colab": {
          "base_uri": "https://localhost:8080/"
        },
        "id": "ItewvqDibSAh",
        "outputId": "2a53a34d-b6b5-4167-8b61-d97545c221ce"
      },
      "execution_count": null,
      "outputs": [
        {
          "output_type": "execute_result",
          "data": {
            "text/plain": [
              "array([False, False, False, False, False, False])"
            ]
          },
          "metadata": {},
          "execution_count": 15
        }
      ]
    },
    {
      "cell_type": "code",
      "source": [
        "arr_haq[0] = np.NaN  # qiymatini NaN ga o'zgartirish\n",
        "arr_haq"
      ],
      "metadata": {
        "colab": {
          "base_uri": "https://localhost:8080/"
        },
        "id": "pa19D4HdbpwJ",
        "outputId": "8d629105-29d4-412c-b878-5b78f311080f"
      },
      "execution_count": null,
      "outputs": [
        {
          "output_type": "execute_result",
          "data": {
            "text/plain": [
              "array([        nan,  0.10456893,  1.32180628,  0.19640997,  1.51973034,\n",
              "       -1.09871259])"
            ]
          },
          "metadata": {},
          "execution_count": 20
        }
      ]
    },
    {
      "cell_type": "code",
      "source": [
        "np.isnan(arr_haq) # Nan qiymati bo'lsa True qaytaradi"
      ],
      "metadata": {
        "colab": {
          "base_uri": "https://localhost:8080/"
        },
        "id": "LCapqU-fb2cR",
        "outputId": "cb39134c-896f-4d72-86eb-373e6ea394c7"
      },
      "execution_count": null,
      "outputs": [
        {
          "output_type": "execute_result",
          "data": {
            "text/plain": [
              "array([ True, False, False, False, False, False])"
            ]
          },
          "metadata": {},
          "execution_count": 21
        }
      ]
    },
    {
      "cell_type": "code",
      "source": [
        "arr2 = np.random.randn(6)\n",
        "arr3 = np.random.randn(6)"
      ],
      "metadata": {
        "id": "Ol48kBpicERE"
      },
      "execution_count": null,
      "outputs": []
    },
    {
      "cell_type": "code",
      "source": [
        "arr2"
      ],
      "metadata": {
        "colab": {
          "base_uri": "https://localhost:8080/"
        },
        "id": "F69nsbP3JwbG",
        "outputId": "7733dde1-81c4-41f5-d51d-6c60ceb1d8ac"
      },
      "execution_count": null,
      "outputs": [
        {
          "output_type": "execute_result",
          "data": {
            "text/plain": [
              "array([-0.30313405, -0.01151554, -1.18090512, -0.71227244, -1.34465908,\n",
              "        0.47414537])"
            ]
          },
          "metadata": {},
          "execution_count": 4
        }
      ]
    },
    {
      "cell_type": "code",
      "source": [
        "arr3"
      ],
      "metadata": {
        "colab": {
          "base_uri": "https://localhost:8080/"
        },
        "id": "k-AE4CkeJxHJ",
        "outputId": "55b4e2fa-d3d2-4ad1-96f3-743e88047306"
      },
      "execution_count": null,
      "outputs": [
        {
          "output_type": "execute_result",
          "data": {
            "text/plain": [
              "array([ 1.09043976, -0.18345381, -0.00914177, -1.46137595,  0.39254571,\n",
              "        1.04968222])"
            ]
          },
          "metadata": {},
          "execution_count": 5
        }
      ]
    },
    {
      "cell_type": "code",
      "source": [
        "np.add(arr2, arr3)  # arr2 va arr3 ni mos ravishda qo'shadi"
      ],
      "metadata": {
        "colab": {
          "base_uri": "https://localhost:8080/"
        },
        "id": "4eAX2jGZJyEO",
        "outputId": "9f2a869e-e317-4b0b-91f1-0bd8be073681"
      },
      "execution_count": null,
      "outputs": [
        {
          "output_type": "execute_result",
          "data": {
            "text/plain": [
              "array([ 0.78730571, -0.19496935, -1.19004689, -2.17364838, -0.95211337,\n",
              "        1.52382759])"
            ]
          },
          "metadata": {},
          "execution_count": 6
        }
      ]
    },
    {
      "cell_type": "code",
      "source": [
        "arr2 + arr3  # add() bilan bir hil ishlaydi"
      ],
      "metadata": {
        "colab": {
          "base_uri": "https://localhost:8080/"
        },
        "id": "SAIrgtBRKKXb",
        "outputId": "0d597c0e-f081-4822-9015-d8ada5694e21"
      },
      "execution_count": null,
      "outputs": [
        {
          "output_type": "execute_result",
          "data": {
            "text/plain": [
              "array([ 0.78730571, -0.19496935, -1.19004689, -2.17364838, -0.95211337,\n",
              "        1.52382759])"
            ]
          },
          "metadata": {},
          "execution_count": 7
        }
      ]
    },
    {
      "cell_type": "code",
      "source": [
        "np.multiply(arr2, arr3)  #arr2 va arr3 ni mos ravishda ko'paytiradi"
      ],
      "metadata": {
        "colab": {
          "base_uri": "https://localhost:8080/"
        },
        "id": "SZJLqs8RKMrF",
        "outputId": "98736a34-91c2-4ae0-854e-0c38a7535870"
      },
      "execution_count": null,
      "outputs": [
        {
          "output_type": "execute_result",
          "data": {
            "text/plain": [
              "array([-0.33054942,  0.00211257,  0.01079556,  1.04089781, -0.52784015,\n",
              "        0.49770197])"
            ]
          },
          "metadata": {},
          "execution_count": 8
        }
      ]
    },
    {
      "cell_type": "code",
      "source": [
        "arr2 * arr3  # multiplay() bilan bir hil ishlaydi"
      ],
      "metadata": {
        "colab": {
          "base_uri": "https://localhost:8080/"
        },
        "id": "Uow0flh4Kdhh",
        "outputId": "14763c28-8c9f-438f-e617-131a57726c1d"
      },
      "execution_count": null,
      "outputs": [
        {
          "output_type": "execute_result",
          "data": {
            "text/plain": [
              "array([-0.33054942,  0.00211257,  0.01079556,  1.04089781, -0.52784015,\n",
              "        0.49770197])"
            ]
          },
          "metadata": {},
          "execution_count": 9
        }
      ]
    },
    {
      "cell_type": "code",
      "source": [
        "arr2"
      ],
      "metadata": {
        "id": "Z1YgVCVmK7Un",
        "outputId": "cec3073d-9187-4a92-869c-39fdaebaeac1",
        "colab": {
          "base_uri": "https://localhost:8080/"
        }
      },
      "execution_count": null,
      "outputs": [
        {
          "output_type": "execute_result",
          "data": {
            "text/plain": [
              "array([-0.30313405, -0.01151554, -1.18090512, -0.71227244, -1.34465908,\n",
              "        0.47414537])"
            ]
          },
          "metadata": {},
          "execution_count": 11
        }
      ]
    },
    {
      "cell_type": "code",
      "source": [
        "arr3"
      ],
      "metadata": {
        "id": "QCfL_ZjFK-HV",
        "outputId": "7d48a528-0a50-4b1b-9ac7-f1d4b8c1c0b1",
        "colab": {
          "base_uri": "https://localhost:8080/"
        }
      },
      "execution_count": null,
      "outputs": [
        {
          "output_type": "execute_result",
          "data": {
            "text/plain": [
              "array([ 1.09043976, -0.18345381, -0.00914177, -1.46137595,  0.39254571,\n",
              "        1.04968222])"
            ]
          },
          "metadata": {},
          "execution_count": 12
        }
      ]
    },
    {
      "cell_type": "code",
      "source": [
        "np.maximum(arr2, arr3)  #arr2 va arr3 ni mos ravishda kattasini chiqaradi"
      ],
      "metadata": {
        "colab": {
          "base_uri": "https://localhost:8080/"
        },
        "id": "l6TnY0TVKjx0",
        "outputId": "452f8e99-9d21-4449-ffa7-0c20f1f46e2f"
      },
      "execution_count": null,
      "outputs": [
        {
          "output_type": "execute_result",
          "data": {
            "text/plain": [
              "array([ 1.09043976, -0.01151554, -0.00914177, -0.71227244,  0.39254571,\n",
              "        1.04968222])"
            ]
          },
          "metadata": {},
          "execution_count": 10
        }
      ]
    },
    {
      "cell_type": "code",
      "source": [],
      "metadata": {
        "id": "rYfbYVqNKtmI"
      },
      "execution_count": null,
      "outputs": []
    }
  ]
}