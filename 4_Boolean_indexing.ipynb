{
  "nbformat": 4,
  "nbformat_minor": 0,
  "metadata": {
    "colab": {
      "provenance": [],
      "authorship_tag": "ABX9TyOTbd/9sduip3CCPnAtwyYE",
      "include_colab_link": true
    },
    "kernelspec": {
      "name": "python3",
      "display_name": "Python 3"
    },
    "language_info": {
      "name": "python"
    }
  },
  "cells": [
    {
      "cell_type": "markdown",
      "metadata": {
        "id": "view-in-github",
        "colab_type": "text"
      },
      "source": [
        "<a href=\"https://colab.research.google.com/github/Chaqmoqjon/MohirdevNumPY/blob/main/4_Boolean_indexing.ipynb\" target=\"_parent\"><img src=\"https://colab.research.google.com/assets/colab-badge.svg\" alt=\"Open In Colab\"/></a>"
      ]
    },
    {
      "cell_type": "code",
      "execution_count": null,
      "metadata": {
        "id": "PPw7pZVATkb3"
      },
      "outputs": [],
      "source": [
        "import numpy as np"
      ]
    },
    {
      "cell_type": "code",
      "source": [
        "names = np.array(['Sardorbek', 'Islombek', 'Samandar', 'Ibrohimjon', 'Nomonjon', 'Akmaljon', 'Islombek'])   #array yaratildi\n",
        "names"
      ],
      "metadata": {
        "colab": {
          "base_uri": "https://localhost:8080/"
        },
        "id": "fTKvfDo2Ts9S",
        "outputId": "863c077e-c9eb-4d7d-c65f-8730d095afcd"
      },
      "execution_count": null,
      "outputs": [
        {
          "output_type": "execute_result",
          "data": {
            "text/plain": [
              "array(['Sardorbek', 'Islombek', 'Samandar', 'Ibrohimjon', 'Nomonjon',\n",
              "       'Akmaljon', 'Islombek'], dtype='<U10')"
            ]
          },
          "metadata": {},
          "execution_count": 3
        }
      ]
    },
    {
      "cell_type": "code",
      "source": [
        "data = np.random.randn(7, 4)  #random sonlar yaratildi\n",
        "data"
      ],
      "metadata": {
        "colab": {
          "base_uri": "https://localhost:8080/"
        },
        "id": "vaB3a2kCUCRJ",
        "outputId": "163d2c1c-d48b-4cb3-86be-1481d9ce6255"
      },
      "execution_count": null,
      "outputs": [
        {
          "output_type": "execute_result",
          "data": {
            "text/plain": [
              "array([[ 0.27984377,  0.53962617,  1.51398273, -0.13012728],\n",
              "       [ 0.31901309,  0.3681482 , -3.04922905,  0.37138723],\n",
              "       [-0.58031246,  1.25694581,  0.02485967,  0.0928954 ],\n",
              "       [-1.18750681, -0.34246611,  0.95577529, -1.6665418 ],\n",
              "       [ 0.19622189,  0.13028666, -0.73839528,  0.53451725],\n",
              "       [ 0.00444716,  0.49056727,  0.59123508, -1.56253269],\n",
              "       [ 0.22738966, -1.46915135,  0.471569  , -0.85743321]])"
            ]
          },
          "metadata": {},
          "execution_count": 4
        }
      ]
    },
    {
      "cell_type": "code",
      "source": [
        "names == 'Sardorbek'"
      ],
      "metadata": {
        "colab": {
          "base_uri": "https://localhost:8080/"
        },
        "id": "vzUxlzbFURFc",
        "outputId": "85335e6e-6279-4686-d327-1b8d9d86e02d"
      },
      "execution_count": null,
      "outputs": [
        {
          "output_type": "execute_result",
          "data": {
            "text/plain": [
              "array([ True, False, False, False, False, False, False])"
            ]
          },
          "metadata": {},
          "execution_count": 7
        }
      ]
    },
    {
      "cell_type": "code",
      "source": [
        "data[names == 'Sardorbek']   #data dagi Sardorbekga tegishli qatorni chiqardi"
      ],
      "metadata": {
        "colab": {
          "base_uri": "https://localhost:8080/"
        },
        "id": "F2cvQDx8V8nj",
        "outputId": "514a7a46-222c-41b4-95f7-0477bba1559d"
      },
      "execution_count": null,
      "outputs": [
        {
          "output_type": "execute_result",
          "data": {
            "text/plain": [
              "array([[-1.20978241,  0.08611968,  0.18380173, -0.76506785]])"
            ]
          },
          "metadata": {},
          "execution_count": 8
        }
      ]
    },
    {
      "cell_type": "code",
      "source": [
        "data[names == 'Islombek']  #data dagi Iskombekga tegishli qatorlarni chiqardi"
      ],
      "metadata": {
        "colab": {
          "base_uri": "https://localhost:8080/"
        },
        "id": "dR2yo11DWIJi",
        "outputId": "3fec674d-5340-498e-c60b-02671716a448"
      },
      "execution_count": null,
      "outputs": [
        {
          "output_type": "execute_result",
          "data": {
            "text/plain": [
              "array([[-0.47446401,  1.17069224,  0.18324714,  0.1094749 ],\n",
              "       [ 1.21314079,  0.14050519, -0.59799566,  0.29801947]])"
            ]
          },
          "metadata": {},
          "execution_count": 11
        }
      ]
    },
    {
      "cell_type": "code",
      "source": [
        "data[names == 'Islombek', 2:]  # data dagi Islombekga tegishli ma'lumotlarning oxirgi ikkinchi ustundan boshlab hammasini chiqar"
      ],
      "metadata": {
        "colab": {
          "base_uri": "https://localhost:8080/"
        },
        "id": "1Rx6S8OHWNak",
        "outputId": "c3225f72-7780-4742-984a-691862ccd5ed"
      },
      "execution_count": null,
      "outputs": [
        {
          "output_type": "execute_result",
          "data": {
            "text/plain": [
              "array([[ 0.18324714,  0.1094749 ],\n",
              "       [-0.59799566,  0.29801947]])"
            ]
          },
          "metadata": {},
          "execution_count": 12
        }
      ]
    },
    {
      "cell_type": "code",
      "source": [
        "data[names != 'Islombek']  #data dagi Islombekga tegishli bo'lmagan ma'lumotkarni chiqarish"
      ],
      "metadata": {
        "colab": {
          "base_uri": "https://localhost:8080/"
        },
        "id": "rClmQ5emW15j",
        "outputId": "0669b9e2-a315-4a0e-cdf2-c2e95ea8ae89"
      },
      "execution_count": null,
      "outputs": [
        {
          "output_type": "execute_result",
          "data": {
            "text/plain": [
              "array([[-1.20978241,  0.08611968,  0.18380173, -0.76506785],\n",
              "       [ 0.85733115, -0.75841448,  1.15107076,  0.30341557],\n",
              "       [ 1.02780484,  0.22399144,  0.36981002,  0.14978213],\n",
              "       [-0.21021753, -0.22334861,  1.42490542,  0.65448641],\n",
              "       [ 0.91353706,  1.80050771,  0.39160595, -0.67836273]])"
            ]
          },
          "metadata": {},
          "execution_count": 13
        }
      ]
    },
    {
      "cell_type": "code",
      "source": [
        "data[~(names == 'Islombek')]  #data dagi Islombekga tegishli bo'lmagan ma'lumotkarni chiqarish"
      ],
      "metadata": {
        "colab": {
          "base_uri": "https://localhost:8080/"
        },
        "id": "8fcYtQeZYY_I",
        "outputId": "75a2cf78-a40d-4581-ca8b-50963fe5e08d"
      },
      "execution_count": null,
      "outputs": [
        {
          "output_type": "execute_result",
          "data": {
            "text/plain": [
              "array([[-1.20978241,  0.08611968,  0.18380173, -0.76506785],\n",
              "       [ 0.85733115, -0.75841448,  1.15107076,  0.30341557],\n",
              "       [ 1.02780484,  0.22399144,  0.36981002,  0.14978213],\n",
              "       [-0.21021753, -0.22334861,  1.42490542,  0.65448641],\n",
              "       [ 0.91353706,  1.80050771,  0.39160595, -0.67836273]])"
            ]
          },
          "metadata": {},
          "execution_count": 14
        }
      ]
    },
    {
      "cell_type": "code",
      "source": [
        "print(names)\n",
        "print(data)"
      ],
      "metadata": {
        "colab": {
          "base_uri": "https://localhost:8080/"
        },
        "id": "g9TVIWTV7ApO",
        "outputId": "51607adc-50a8-45aa-985b-adee0ede76e5"
      },
      "execution_count": null,
      "outputs": [
        {
          "output_type": "stream",
          "name": "stdout",
          "text": [
            "['Sardorbek' 'Islombek' 'Samandar' 'Ibrohimjon' 'Nomonjon' 'Akmaljon'\n",
            " 'Islombek']\n",
            "[[ 0.27984377  0.53962617  1.51398273 -0.13012728]\n",
            " [ 0.31901309  0.3681482  -3.04922905  0.37138723]\n",
            " [-0.58031246  1.25694581  0.02485967  0.0928954 ]\n",
            " [-1.18750681 -0.34246611  0.95577529 -1.6665418 ]\n",
            " [ 0.19622189  0.13028666 -0.73839528  0.53451725]\n",
            " [ 0.00444716  0.49056727  0.59123508 -1.56253269]\n",
            " [ 0.22738966 -1.46915135  0.471569   -0.85743321]]\n"
          ]
        }
      ]
    },
    {
      "cell_type": "code",
      "source": [
        "mask = (names == 'Sardorbek') | (names == 'Samandar')   #ismi Sardorbek yoki Samandar bo'lgan qiymatlatni shabloni\n",
        "mask"
      ],
      "metadata": {
        "colab": {
          "base_uri": "https://localhost:8080/"
        },
        "id": "nVVv-xw_50DA",
        "outputId": "f596449e-ff2d-439d-98e6-2a2a8f2967eb"
      },
      "execution_count": null,
      "outputs": [
        {
          "output_type": "execute_result",
          "data": {
            "text/plain": [
              "array([ True, False,  True, False, False, False, False])"
            ]
          },
          "metadata": {},
          "execution_count": 14
        }
      ]
    },
    {
      "cell_type": "code",
      "source": [
        "data[mask]  #qiymati Sardorbek va Samandar tegishli ma'lumotlarni chiqarish"
      ],
      "metadata": {
        "colab": {
          "base_uri": "https://localhost:8080/"
        },
        "id": "ecJafItI56cM",
        "outputId": "69524cdc-70d5-46db-9a77-337698b26292"
      },
      "execution_count": null,
      "outputs": [
        {
          "output_type": "execute_result",
          "data": {
            "text/plain": [
              "array([[ 0.27984377,  0.53962617,  1.51398273, -0.13012728],\n",
              "       [-0.58031246,  1.25694581,  0.02485967,  0.0928954 ]])"
            ]
          },
          "metadata": {},
          "execution_count": 16
        }
      ]
    },
    {
      "cell_type": "code",
      "source": [
        "data"
      ],
      "metadata": {
        "colab": {
          "base_uri": "https://localhost:8080/"
        },
        "id": "OpzGovAn7hAz",
        "outputId": "b98b5a9c-68b4-4366-e7f9-238db9ad446a"
      },
      "execution_count": null,
      "outputs": [
        {
          "output_type": "execute_result",
          "data": {
            "text/plain": [
              "array([[ 0.27984377,  0.53962617,  1.51398273, -0.13012728],\n",
              "       [ 0.31901309,  0.3681482 , -3.04922905,  0.37138723],\n",
              "       [-0.58031246,  1.25694581,  0.02485967,  0.0928954 ],\n",
              "       [-1.18750681, -0.34246611,  0.95577529, -1.6665418 ],\n",
              "       [ 0.19622189,  0.13028666, -0.73839528,  0.53451725],\n",
              "       [ 0.00444716,  0.49056727,  0.59123508, -1.56253269],\n",
              "       [ 0.22738966, -1.46915135,  0.471569  , -0.85743321]])"
            ]
          },
          "metadata": {},
          "execution_count": 17
        }
      ]
    },
    {
      "cell_type": "code",
      "source": [
        "data[data < 0]  = 0 # data dagi qiymati 0 dan kichik bo'lgan qiymatlarni 0 ga almashtirish\n",
        "data"
      ],
      "metadata": {
        "colab": {
          "base_uri": "https://localhost:8080/"
        },
        "id": "-wh7KMCr-DFm",
        "outputId": "63f53de3-a00b-413b-a33c-522cf8246004"
      },
      "execution_count": null,
      "outputs": [
        {
          "output_type": "execute_result",
          "data": {
            "text/plain": [
              "array([[0.27984377, 0.53962617, 1.51398273, 0.        ],\n",
              "       [0.31901309, 0.3681482 , 0.        , 0.37138723],\n",
              "       [0.        , 1.25694581, 0.02485967, 0.0928954 ],\n",
              "       [0.        , 0.        , 0.95577529, 0.        ],\n",
              "       [0.19622189, 0.13028666, 0.        , 0.53451725],\n",
              "       [0.00444716, 0.49056727, 0.59123508, 0.        ],\n",
              "       [0.22738966, 0.        , 0.471569  , 0.        ]])"
            ]
          },
          "metadata": {},
          "execution_count": 26
        }
      ]
    },
    {
      "cell_type": "code",
      "source": [
        "rand_num = np.arange(0, 9, 1).reshape(3, 3)\n",
        "rand_num"
      ],
      "metadata": {
        "colab": {
          "base_uri": "https://localhost:8080/"
        },
        "id": "62RVRM72-DxZ",
        "outputId": "b9b6ac92-e75a-454b-fd39-35a5755b20a1"
      },
      "execution_count": null,
      "outputs": [
        {
          "output_type": "execute_result",
          "data": {
            "text/plain": [
              "array([[0, 1, 2],\n",
              "       [3, 4, 5],\n",
              "       [6, 7, 8]])"
            ]
          },
          "metadata": {},
          "execution_count": 27
        }
      ]
    },
    {
      "cell_type": "code",
      "source": [
        "slice_arr = rand_num[2, 0:2]\n",
        "slice_arr"
      ],
      "metadata": {
        "colab": {
          "base_uri": "https://localhost:8080/"
        },
        "id": "sabG4Xr6Fb6n",
        "outputId": "f047a590-c5ff-430a-dbed-affe04a1f0ef"
      },
      "execution_count": null,
      "outputs": [
        {
          "output_type": "execute_result",
          "data": {
            "text/plain": [
              "array([6, 7])"
            ]
          },
          "metadata": {},
          "execution_count": 28
        }
      ]
    },
    {
      "cell_type": "code",
      "source": [],
      "metadata": {
        "id": "h8H_Fe9eGJU-"
      },
      "execution_count": null,
      "outputs": []
    }
  ]
}