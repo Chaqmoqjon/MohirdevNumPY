{
  "nbformat": 4,
  "nbformat_minor": 0,
  "metadata": {
    "colab": {
      "provenance": [],
      "authorship_tag": "ABX9TyM+VWstgSD25WFXw0+Bf82X",
      "include_colab_link": true
    },
    "kernelspec": {
      "name": "python3",
      "display_name": "Python 3"
    },
    "language_info": {
      "name": "python"
    }
  },
  "cells": [
    {
      "cell_type": "markdown",
      "metadata": {
        "id": "view-in-github",
        "colab_type": "text"
      },
      "source": [
        "<a href=\"https://colab.research.google.com/github/Chaqmoqjon/MohirdevNumPY/blob/main/7_Arr_Or_Pr_1_Logical_set.ipynb\" target=\"_parent\"><img src=\"https://colab.research.google.com/assets/colab-badge.svg\" alt=\"Open In Colab\"/></a>"
      ]
    },
    {
      "cell_type": "code",
      "execution_count": null,
      "metadata": {
        "id": "dJXuxoReglaZ"
      },
      "outputs": [],
      "source": [
        "import numpy as np"
      ]
    },
    {
      "cell_type": "code",
      "source": [
        "xarr = np.array([1.1, 1.2, 1.3, 1.4, 1.5])\n",
        "yarr = np.array([2.1, 2.2, 2.3, 2.4, 2.5])"
      ],
      "metadata": {
        "id": "-iqM1lBBgqne"
      },
      "execution_count": null,
      "outputs": []
    },
    {
      "cell_type": "code",
      "source": [
        "con = np.array([True, False, True, True, False])"
      ],
      "metadata": {
        "id": "eeZ8e38Rg7-s"
      },
      "execution_count": null,
      "outputs": []
    },
    {
      "cell_type": "code",
      "source": [
        "result = np.where(con, xarr, yarr)  # agar True bo'lsa xarr, False bo'lsa yarr qiymatini oladi\n",
        "result"
      ],
      "metadata": {
        "colab": {
          "base_uri": "https://localhost:8080/"
        },
        "id": "3yFRt67MhguB",
        "outputId": "0ea8a160-3033-4dd8-cae9-57f5d5d167bc"
      },
      "execution_count": null,
      "outputs": [
        {
          "output_type": "execute_result",
          "data": {
            "text/plain": [
              "array([1.1, 2.2, 1.3, 1.4, 2.5])"
            ]
          },
          "metadata": {},
          "execution_count": 5
        }
      ]
    },
    {
      "cell_type": "code",
      "source": [
        "arr = np.random.randn(4, 4)\n",
        "arr"
      ],
      "metadata": {
        "colab": {
          "base_uri": "https://localhost:8080/"
        },
        "id": "ewAaQkJih34r",
        "outputId": "12742ca0-42d7-4607-9b46-77554e973b08"
      },
      "execution_count": null,
      "outputs": [
        {
          "output_type": "execute_result",
          "data": {
            "text/plain": [
              "array([[-0.80843593, -0.33296458,  2.23521449,  0.06222656],\n",
              "       [-0.41588889, -0.53749209, -1.68858604,  1.31700679],\n",
              "       [-0.23752672, -0.81155366,  0.42603411,  0.91260408],\n",
              "       [ 0.76595913,  0.44586332, -0.1063478 , -0.98772196]])"
            ]
          },
          "metadata": {},
          "execution_count": 6
        }
      ]
    },
    {
      "cell_type": "code",
      "source": [
        "results = np.where(arr < 0, -2, 2)  # manfiy qiymatlarni -2 ga, musbatlarni 2 ga aylantiradi\n",
        "results"
      ],
      "metadata": {
        "colab": {
          "base_uri": "https://localhost:8080/"
        },
        "id": "92JvRdEqiZlU",
        "outputId": "6ee1a5f4-be08-49f5-b31e-cc7b5c85953b"
      },
      "execution_count": null,
      "outputs": [
        {
          "output_type": "execute_result",
          "data": {
            "text/plain": [
              "array([[-2, -2,  2,  2],\n",
              "       [-2, -2, -2,  2],\n",
              "       [-2, -2,  2,  2],\n",
              "       [ 2,  2, -2, -2]])"
            ]
          },
          "metadata": {},
          "execution_count": 9
        }
      ]
    },
    {
      "cell_type": "code",
      "source": [],
      "metadata": {
        "id": "ZlgzjfvOi6oJ"
      },
      "execution_count": null,
      "outputs": []
    }
  ]
}