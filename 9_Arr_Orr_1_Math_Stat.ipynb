{
  "nbformat": 4,
  "nbformat_minor": 0,
  "metadata": {
    "colab": {
      "provenance": [],
      "authorship_tag": "ABX9TyPpiXf5nTfikwXZWlb1n+1K",
      "include_colab_link": true
    },
    "kernelspec": {
      "name": "python3",
      "display_name": "Python 3"
    },
    "language_info": {
      "name": "python"
    }
  },
  "cells": [
    {
      "cell_type": "markdown",
      "metadata": {
        "id": "view-in-github",
        "colab_type": "text"
      },
      "source": [
        "<a href=\"https://colab.research.google.com/github/Chaqmoqjon/NumPY/blob/main/9_Arr_Orr_1_Math_Stat.ipynb\" target=\"_parent\"><img src=\"https://colab.research.google.com/assets/colab-badge.svg\" alt=\"Open In Colab\"/></a>"
      ]
    },
    {
      "cell_type": "code",
      "execution_count": null,
      "metadata": {
        "id": "V8XJFQcj6TzA"
      },
      "outputs": [],
      "source": [
        "import numpy as np"
      ]
    },
    {
      "cell_type": "code",
      "source": [
        "arr = np.random.randn(5, 4)\n",
        "arr"
      ],
      "metadata": {
        "colab": {
          "base_uri": "https://localhost:8080/"
        },
        "id": "hJDSSL5J6WdM",
        "outputId": "68357025-0942-4625-f9b4-bec78140d297"
      },
      "execution_count": null,
      "outputs": [
        {
          "output_type": "execute_result",
          "data": {
            "text/plain": [
              "array([[-0.21198463, -0.21378355, -0.58715896,  0.2270371 ],\n",
              "       [ 1.15938821, -0.01775898, -1.1658198 , -0.26446409],\n",
              "       [-1.60586421, -2.24481029, -1.59576023, -0.74549223],\n",
              "       [-1.13431175, -1.38086902, -1.15200171,  0.05939228],\n",
              "       [ 1.4671158 ,  0.22662874, -0.78230029,  1.93528486]])"
            ]
          },
          "metadata": {},
          "execution_count": 2
        }
      ]
    },
    {
      "cell_type": "code",
      "source": [
        "arr.sum()  #umumiy qiymatini topadi"
      ],
      "metadata": {
        "colab": {
          "base_uri": "https://localhost:8080/"
        },
        "id": "LCkas3yq6dOT",
        "outputId": "5f6bb755-f5c5-49f0-de01-ff388e279839"
      },
      "execution_count": null,
      "outputs": [
        {
          "output_type": "execute_result",
          "data": {
            "text/plain": [
              "-8.027532747992739"
            ]
          },
          "metadata": {},
          "execution_count": 3
        }
      ]
    },
    {
      "cell_type": "code",
      "source": [
        "np.sum(arr)  #umumiy qiymatini topadi"
      ],
      "metadata": {
        "colab": {
          "base_uri": "https://localhost:8080/"
        },
        "id": "w11euKE16flr",
        "outputId": "8ddafa7a-5a6e-4abd-d8e0-9d6be23e02e6"
      },
      "execution_count": null,
      "outputs": [
        {
          "output_type": "execute_result",
          "data": {
            "text/plain": [
              "-8.027532747992739"
            ]
          },
          "metadata": {},
          "execution_count": 4
        }
      ]
    },
    {
      "cell_type": "code",
      "source": [
        "arr.sum(axis = 1)  # har bir qatorning umumiy qiymati"
      ],
      "metadata": {
        "colab": {
          "base_uri": "https://localhost:8080/"
        },
        "id": "8eC6ZF8A6pxB",
        "outputId": "b40c8ba3-5619-4b42-ca5e-9034db44a879"
      },
      "execution_count": null,
      "outputs": [
        {
          "output_type": "execute_result",
          "data": {
            "text/plain": [
              "array([-0.78589004, -0.28865467, -6.19192695, -3.60779019,  2.84672911])"
            ]
          },
          "metadata": {},
          "execution_count": 12
        }
      ]
    },
    {
      "cell_type": "code",
      "source": [
        "arr.mean() #o'tacha qiymatini topadi"
      ],
      "metadata": {
        "colab": {
          "base_uri": "https://localhost:8080/"
        },
        "id": "cKqnDm2H8Pgj",
        "outputId": "8eb7d3b2-8ad8-4214-dfa3-30fe6908fbad"
      },
      "execution_count": null,
      "outputs": [
        {
          "output_type": "execute_result",
          "data": {
            "text/plain": [
              "-0.4013766373996369"
            ]
          },
          "metadata": {},
          "execution_count": 19
        }
      ]
    },
    {
      "cell_type": "code",
      "source": [
        "arr.mean(axis = 1) # har bir qatorning o'tacha qiymati\n",
        "np.mean(arr, axis=0) # har bir qatorning o'tacha qiymati"
      ],
      "metadata": {
        "colab": {
          "base_uri": "https://localhost:8080/"
        },
        "id": "QQhC747C8P78",
        "outputId": "9bef5f83-5d38-4342-ea29-c48c48e66fa3"
      },
      "execution_count": null,
      "outputs": [
        {
          "output_type": "execute_result",
          "data": {
            "text/plain": [
              "array([-0.06513132, -0.72611862, -1.0566082 ,  0.24235158])"
            ]
          },
          "metadata": {},
          "execution_count": 22
        }
      ]
    },
    {
      "cell_type": "code",
      "source": [
        "arr.sum(axis = 0)  # har bir ustunning umumiy qiymati"
      ],
      "metadata": {
        "colab": {
          "base_uri": "https://localhost:8080/"
        },
        "id": "ZiKK9aaD7JL-",
        "outputId": "417d69fd-2aea-4e92-f826-a415e4e061b6"
      },
      "execution_count": null,
      "outputs": [
        {
          "output_type": "execute_result",
          "data": {
            "text/plain": [
              "array([-0.32565659, -3.63059309, -5.28304098,  1.21175792])"
            ]
          },
          "metadata": {},
          "execution_count": 14
        }
      ]
    },
    {
      "cell_type": "code",
      "source": [
        "arr2 = np.arange(8)\n",
        "arr2"
      ],
      "metadata": {
        "colab": {
          "base_uri": "https://localhost:8080/"
        },
        "id": "WfoUkSDu7kVn",
        "outputId": "e553786c-9bd9-4047-9c3d-d67b9ca215e3"
      },
      "execution_count": null,
      "outputs": [
        {
          "output_type": "execute_result",
          "data": {
            "text/plain": [
              "array([0, 1, 2, 3, 4, 5, 6, 7])"
            ]
          },
          "metadata": {},
          "execution_count": 27
        }
      ]
    },
    {
      "cell_type": "code",
      "source": [
        "arr2.cumsum() # o'zigacha bo'lgan qiymatlarni qo'shib yozadi"
      ],
      "metadata": {
        "colab": {
          "base_uri": "https://localhost:8080/"
        },
        "id": "aTJ6M9ey7vdt",
        "outputId": "992b9dd4-8083-4497-ff7a-a1be70ebdc80"
      },
      "execution_count": null,
      "outputs": [
        {
          "output_type": "execute_result",
          "data": {
            "text/plain": [
              "array([ 0,  1,  3,  6, 10, 15, 21, 28])"
            ]
          },
          "metadata": {},
          "execution_count": 26
        }
      ]
    },
    {
      "cell_type": "code",
      "source": [],
      "metadata": {
        "id": "kgAaLmbS75l_"
      },
      "execution_count": null,
      "outputs": []
    }
  ]
}